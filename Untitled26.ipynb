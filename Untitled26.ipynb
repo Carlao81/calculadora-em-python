{
  "nbformat": 4,
  "nbformat_minor": 0,
  "metadata": {
    "colab": {
      "provenance": [],
      "authorship_tag": "ABX9TyMvkcGNyOOborTGyo9BuypM",
      "include_colab_link": true
    },
    "kernelspec": {
      "name": "python3",
      "display_name": "Python 3"
    },
    "language_info": {
      "name": "python"
    }
  },
  "cells": [
    {
      "cell_type": "markdown",
      "metadata": {
        "id": "view-in-github",
        "colab_type": "text"
      },
      "source": [
        "<a href=\"https://colab.research.google.com/github/Carlao81/calculadora-em-python/blob/main/Untitled26.ipynb\" target=\"_parent\"><img src=\"https://colab.research.google.com/assets/colab-badge.svg\" alt=\"Open In Colab\"/></a>"
      ]
    },
    {
      "cell_type": "code",
      "execution_count": 15,
      "metadata": {
        "colab": {
          "base_uri": "https://localhost:8080/"
        },
        "id": "YfaoQLJ9LPSd",
        "outputId": "ffb9bcd9-fb8d-4cb4-a5a2-76abb65911d4"
      },
      "outputs": [
        {
          "output_type": "stream",
          "name": "stdout",
          "text": [
            "Qual o nome de usuário?gfdsk\n",
            "Qual a senha?tyui\n",
            "True\n",
            "True\n"
          ]
        }
      ],
      "source": [
        "x = 'admin'\n",
        "y = 'admin'\n",
        "\n",
        "usuario=input('Qual o nome de usuário?')\n",
        "senha=input('Qual a senha?')\n",
        "if x == 'admin':\n",
        "  print(True)\n",
        "else:\n",
        "  print(False)\n",
        "if y == 'admin':\n",
        "  print(True)\n",
        "else:\n",
        "  print(False)"
      ]
    }
  ]
}