{
  "nbformat": 4,
  "nbformat_minor": 0,
  "metadata": {
    "colab": {
      "provenance": [],
      "authorship_tag": "ABX9TyPWFBDx/kxF+jvpyAYmxpag",
      "include_colab_link": true
    },
    "kernelspec": {
      "name": "python3",
      "display_name": "Python 3"
    },
    "language_info": {
      "name": "python"
    }
  },
  "cells": [
    {
      "cell_type": "markdown",
      "metadata": {
        "id": "view-in-github",
        "colab_type": "text"
      },
      "source": [
        "<a href=\"https://colab.research.google.com/github/Carlao81/calculadora-em-python/blob/main/Untitled25.ipynb\" target=\"_parent\"><img src=\"https://colab.research.google.com/assets/colab-badge.svg\" alt=\"Open In Colab\"/></a>"
      ]
    },
    {
      "cell_type": "code",
      "execution_count": 4,
      "metadata": {
        "colab": {
          "base_uri": "https://localhost:8080/"
        },
        "id": "NvuyPM_zI_Xi",
        "outputId": "916b940c-e33a-4b6c-ecd6-207e50146eb5"
      },
      "outputs": [
        {
          "output_type": "stream",
          "name": "stdout",
          "text": [
            "Selecione a operação desejada\n",
            "1. Adição\n",
            "2. Subtração\n",
            "3. Multiplicação\n",
            "4. Divisão\n",
            "Digite o número da operação desejada (1, 2, 3, 4)1\n",
            "digite um número9\n",
            "digite outro número número19\n",
            "Resultado: 28.0\n"
          ]
        }
      ],
      "source": [
        "\n",
        "print(\"Selecione a operação desejada\")\n",
        "print(\"1. Adição\")\n",
        "print(\"2. Subtração\")\n",
        "print(\"3. Multiplicação\")\n",
        "print(\"4. Divisão\")\n",
        "\n",
        "opcao = input(\"Digite o número da operação desejada (1, 2, 3, 4)\")\n",
        "\n",
        "x = float(input(\"digite um número\"))\n",
        "y = float(input(\"digite outro número número\"))\n",
        "\n",
        "if opcao == '1':\n",
        "  resultado = x + y\n",
        "  print(\"Resultado:\", resultado)\n",
        "elif opcao == '2':\n",
        "  resultado = x - y\n",
        "  print(\"Resultado:\", resultado)\n",
        "elif opcao == '3':\n",
        "  resultado = x * y\n",
        "  print(\"Resultado:\", resultado)\n",
        "elif opcao == '4':\n",
        "  if y !=0:\n",
        "   resultado = x / y\n",
        "   print(\"Resultado:\", resultado)\n",
        "  else:\n",
        "   print('erro, não poe dividir por 0')\n",
        "else:\n",
        "  print('Opção invalida, por favor escolha uma opção valida')\n"
      ]
    }
  ]
}